{
 "cells": [
  {
   "cell_type": "markdown",
   "metadata": {},
   "source": [
    "# A simple neural network making a prediction\n",
    "\n",
    "### What is a neural network?"
   ]
  },
  {
   "cell_type": "code",
   "execution_count": 1,
   "metadata": {},
   "outputs": [],
   "source": [
    "weight = 0.1\n",
    "def neural_network(input, weight):\n",
    "    prediction = input * weight\n",
    "    return prediction\n",
    "\n",
    "number_of_toes = [8.5, 9.5, 10, 9]\n",
    "input = number_of_toes[0]\n",
    "pred = neural_network(input, weight)\n",
    "print(round(pred, 5))"
   ]
  },
  {
   "cell_type": "markdown",
   "metadata": {},
   "source": [
    "# Making a prediction with multiple inputs\n",
    "\n",
    "### Complete runnable code"
   ]
  },
  {
   "cell_type": "code",
   "execution_count": 2,
   "metadata": {},
   "outputs": [
    {
     "name": "stdout",
     "output_type": "stream",
     "text": [
      "0.98\n"
     ]
    }
   ],
   "source": [
    "def w_sum(inputs, weights):\n",
    "    assert(len(inputs) == len(weights))\n",
    "    \n",
    "    output = 0\n",
    "    \n",
    "    for i in range(len(inputs)):\n",
    "        output += (inputs[i] * weights[i])\n",
    "        \n",
    "    return output\n",
    "\n",
    "def neural_network(inputs, weights):\n",
    "    pred = w_sum(inputs, weights)\n",
    "    return pred\n",
    "\n",
    "weights = [0.1, 0.2, 0]\n",
    "toes = [8.5, 9.5, 9.9, 9.0]\n",
    "wlrec = [0.65, 0.8, 0.8, 0.9]\n",
    "nfans = [1.2, 1.3, 0.5, 1.0]\n",
    "\n",
    "inputs = [toes[0], wlrec[0], nfans[0]]\n",
    "\n",
    "pred = neural_network(inputs, weights)\n",
    "\n",
    "print(round(pred, 5))"
   ]
  },
  {
   "cell_type": "markdown",
   "metadata": {},
   "source": [
    "### Challenge: Vector math\n",
    "\n",
    "Write functions that perform the following operations:\n",
    "\n",
    "- def elementwise_multiplication(vec_a, vec_b)\n",
    "- def elementwise_addition(vec_a, vec_b)\n",
    "- def vector_sum(vec_a)\n",
    "- def vector_average(vec_a)\n",
    "\n",
    "Then, see if you can use two of these methods to perform a dot product!"
   ]
  },
  {
   "cell_type": "code",
   "execution_count": 3,
   "metadata": {},
   "outputs": [
    {
     "name": "stdout",
     "output_type": "stream",
     "text": [
      "[4, 10, 18]\n",
      "[5, 7, 9]\n",
      "6\n",
      "3.0\n",
      "0.98\n"
     ]
    }
   ],
   "source": [
    "def elementwise_multiplication(vec_a, vec_b):\n",
    "    assert(len(vec_a) == len(vec_b))\n",
    "    return [vec_a[i] * vec_b[i] for i in range(len(vec_a))]\n",
    "\n",
    "def elementwise_addition(vec_a, vec_b):\n",
    "    assert(len(vec_a) == len(vec_b))\n",
    "    return [vec_a[i] + vec_b[i] for i in range(len(vec_a))]\n",
    "\n",
    "def vector_sum(vec_a):\n",
    "    return sum(vec_a)\n",
    "\n",
    "def vector_average(vec_a):\n",
    "    return sum(vec_a) / len(vec_a)\n",
    "\n",
    "print(elementwise_multiplication([1, 2, 3], [4, 5, 6]))\n",
    "print(elementwise_addition([1, 2, 3], [4, 5, 6]))\n",
    "print(vector_sum([1, 2, 3]))\n",
    "print(vector_average([2, 2, 4, 4]))\n",
    "\n",
    "def dot_product(vec_a, vec_b):\n",
    "    assert(len(vec_a) == len(vec_b))\n",
    "    product = sum(elementwise_multiplication(vec_a, vec_b))\n",
    "    return round(product, 5)\n",
    "\n",
    "print(dot_product([8.5, 0.65, 1.2], [0.1, 0.2, 0]))"
   ]
  },
  {
   "cell_type": "markdown",
   "metadata": {},
   "source": [
    "# Multiple inputs\n",
    "\n",
    "### Complete runnable code"
   ]
  },
  {
   "cell_type": "code",
   "execution_count": 4,
   "metadata": {},
   "outputs": [
    {
     "name": "stdout",
     "output_type": "stream",
     "text": [
      "0.98\n"
     ]
    }
   ],
   "source": [
    "import numpy as np\n",
    "\n",
    "def neural_network(inputs, weights):\n",
    "    pred = inputs.dot(weights)\n",
    "    return pred\n",
    "\n",
    "weights = np.array([0.1, 0.2, 0])\n",
    "\n",
    "toes = np.array([8.5, 9.5, 9.9, 9.0])\n",
    "wlrec = np.array([0.65, 0.8, 0.8, 0.9])\n",
    "nfans = np.array([1.2, 1.3, 0.5, 1.0])\n",
    "\n",
    "inputs = np.array([toes[0], wlrec[0], nfans[0]])\n",
    "\n",
    "pred = neural_network(inputs, weights)\n",
    "\n",
    "print(round(pred, 5))"
   ]
  },
  {
   "cell_type": "markdown",
   "metadata": {},
   "source": [
    "# Making a prediction with multiple outputs"
   ]
  },
  {
   "cell_type": "code",
   "execution_count": 5,
   "metadata": {},
   "outputs": [
    {
     "name": "stdout",
     "output_type": "stream",
     "text": [
      "[0.195, 0.13, 0.585]\n"
     ]
    }
   ],
   "source": [
    "def neural_network(input, weights):\n",
    "    pred = ele_mul(input, weights)\n",
    "    return pred\n",
    "\n",
    "def ele_mul(number, vector):\n",
    "    output = [number * vector[i] for i in range(len(vector))]\n",
    "    assert(len(output) == len(vector))\n",
    "    return output\n",
    "\n",
    "weights = [0.3, 0.2, 0.9]\n",
    "wlrec = [0.65, 0.8, 0.8, 0.9]\n",
    "input = wlrec[0]\n",
    "pred = neural_network(input, weights)\n",
    "print([round(ele, 5) for ele in pred])"
   ]
  },
  {
   "cell_type": "markdown",
   "metadata": {},
   "source": [
    "# Predicting with multiple inputs and outputs\n",
    "### Neural networks can predict multiple outputs given multiple inputs"
   ]
  },
  {
   "cell_type": "code",
   "execution_count": 9,
   "metadata": {},
   "outputs": [
    {
     "name": "stdout",
     "output_type": "stream",
     "text": [
      "[0.555, 0.98, 0.965]\n"
     ]
    }
   ],
   "source": [
    "def neural_network(inputs, weights):\n",
    "    pred = vect_mat_mul(inputs, weights)\n",
    "    return pred\n",
    "\n",
    "def vect_mat_mul(vector, matrix):\n",
    "    assert(len(vector) == len(matrix))\n",
    "    output = [w_sum(vector, matrix[i]) for i in range(len(vector))]\n",
    "    return output\n",
    "\n",
    "def w_sum(a, b):\n",
    "    assert(len(a) == len(b))\n",
    "    output = 0\n",
    "    for i in range(len(a)):\n",
    "        output += (a[i] * b[i])\n",
    "    return output\n",
    "\n",
    "weights = [\n",
    "    #toes, %win, #fans\n",
    "    [0.1, 0.1, -0.3], # hurt?\n",
    "    [0.1, 0.2, 0.0], # win?\n",
    "    [0.0, 1.3, 0.1] # sad?\n",
    "]\n",
    "\n",
    "toes = [8.5, 9.5, 9.9, 9.0]\n",
    "wlrec = [0.65, 0.8, 0.8, 0.9]\n",
    "nfans = [1.2, 1.3, 0.5, 1.0]\n",
    "\n",
    "inputs = [toes[0], wlrec[0], nfans[0]]\n",
    "pred = neural_network(inputs, weights)\n",
    "print([round(ele, 5) for ele in pred])"
   ]
  },
  {
   "cell_type": "markdown",
   "metadata": {},
   "source": [
    "# Predicting on predictions\n",
    "\n",
    "### Neural networks can be stacked!"
   ]
  },
  {
   "cell_type": "code",
   "execution_count": 12,
   "metadata": {},
   "outputs": [
    {
     "name": "stdout",
     "output_type": "stream",
     "text": [
      "[0.2135, 0.145, 0.5065]\n"
     ]
    }
   ],
   "source": [
    "def neural_network(inputs, weights):\n",
    "    hid = vect_mat_mul(inputs, weights[0])\n",
    "    pred = vect_mat_mul(hid, weights[1])\n",
    "    return pred\n",
    "\n",
    "def vect_mat_mul(vector, matrix):\n",
    "    assert(len(vector) == len(matrix))\n",
    "    output = [w_sum(vector, matrix[i]) for i in range(len(vector))]\n",
    "    return output\n",
    "\n",
    "def w_sum(a, b):\n",
    "    assert(len(a) == len(b))\n",
    "    output = 0\n",
    "    for i in range(len(a)):\n",
    "        output += (a[i] * b[i])\n",
    "    return output\n",
    "\n",
    "ih_wgt = [\n",
    "    #toes, %win, #fans\n",
    "    [0.1, 0.2, -0.1], # hid[0]\n",
    "    [-0.1, 0.1, 0.9], # hid[1]\n",
    "    [0.1, 0.4, 0.1] # hid[2]\n",
    "]\n",
    "\n",
    "hp_wgt = [\n",
    "#  hid[0],hid[1],hid[2]\n",
    "    [0.3, 1.1, -0.3], # hurt?\n",
    "    [0.1, 0.2, 0.0], # win?\n",
    "    [0.0, 1.3, 0.1] # sad?\n",
    "]\n",
    "\n",
    "weights = [ih_wgt, hp_wgt]\n",
    "\n",
    "toes = [8.5, 9.5, 9.9, 9.0]\n",
    "wlrec = [0.65, 0.8, 0.8, 0.9]\n",
    "nfans = [1.2, 1.3, 0.5, 1.0]\n",
    "\n",
    "inputs = [toes[0], wlrec[0], nfans[0]]\n",
    "pred = neural_network(inputs, weights)\n",
    "print([round(ele, 5) for ele in pred])"
   ]
  },
  {
   "cell_type": "markdown",
   "metadata": {},
   "source": [
    "### NumPy version"
   ]
  },
  {
   "cell_type": "code",
   "execution_count": 14,
   "metadata": {},
   "outputs": [
    {
     "name": "stdout",
     "output_type": "stream",
     "text": [
      "[0.2135, 0.145, 0.5065]\n"
     ]
    }
   ],
   "source": [
    "import numpy as np\n",
    "\n",
    "def neural_network(inputs, weights):\n",
    "    hid = inputs.dot(weights[0])\n",
    "    pred = hid.dot(weights[1])\n",
    "    return pred\n",
    "\n",
    "#toes, %win, #fans\n",
    "ih_wgt = np.array([\n",
    "    [0.1, 0.2, -0.1], # hid[0]\n",
    "    [-0.1, 0.1, 0.9], # hid[1]\n",
    "    [0.1, 0.4, 0.1] # hid[2]\n",
    "]).T\n",
    "\n",
    "# hid[0], hid[1], hid[2]\n",
    "hp_wgt = np.array([\n",
    "    [0.3, 1.1, -0.3], # hurt?\n",
    "    [0.1, 0.2, 0.0], # win?\n",
    "    [0.0, 1.3, 0.1] # sad?\n",
    "]).T\n",
    "\n",
    "weights = [ih_wgt, hp_wgt]\n",
    "\n",
    "toes = np.array([8.5, 9.5, 9.9, 9.0])\n",
    "wlrec = np.array([0.65, 0.8, 0.8, 0.9])\n",
    "nfans = np.array([1.2, 1.3, 0.5, 1.0])\n",
    "\n",
    "inputs = np.array([toes[0], wlrec[0], nfans[0]])\n",
    "\n",
    "pred = neural_network(inputs, weights)\n",
    "print([round(ele, 5) for ele in pred])"
   ]
  },
  {
   "cell_type": "markdown",
   "metadata": {},
   "source": [
    "# A quick primer on NumPy\n",
    "\n",
    "### NumPy does a few things for you. Let's reveal the magic."
   ]
  },
  {
   "cell_type": "code",
   "execution_count": 23,
   "metadata": {},
   "outputs": [
    {
     "name": "stdout",
     "output_type": "stream",
     "text": [
      "[0 1 2 3]\n",
      "[4 5 6 7]\n",
      "[[0 1 2 3]\n",
      " [4 5 6 7]]\n",
      "[[0. 0. 0. 0.]\n",
      " [0. 0. 0. 0.]]\n",
      "[[0.97205069 0.79787714 0.29202472 0.21230972 0.79373077]\n",
      " [0.90315085 0.45487812 0.40377613 0.2381625  0.32987447]]\n",
      "\n",
      "[0.  0.1 0.2 0.3]\n",
      "[1 2 3 4]\n",
      "[[0.  0.2 0.4 0.6]\n",
      " [0.8 1.  1.2 1.4]]\n",
      "[ 0  5 12 21]\n",
      "[0.  1.  2.4 4.2]\n",
      "[[ 0  1  4  9]\n",
      " [ 0  5 12 21]]\n",
      "\n",
      "[[0. 0. 0. 0.]]\n",
      "[[0. 0. 0.]\n",
      " [0. 0. 0.]\n",
      " [0. 0. 0.]\n",
      " [0. 0. 0.]]\n",
      "\n",
      "[[0. 0. 0.]]\n",
      "\n",
      "(1, 3)\n"
     ]
    }
   ],
   "source": [
    "import numpy as np\n",
    "\n",
    "a = np.array([0, 1, 2, 3])\n",
    "b = np.array([4, 5, 6, 7])\n",
    "c = np.array([[0, 1, 2, 3],\n",
    "              [4, 5, 6, 7]])\n",
    "\n",
    "d = np.zeros((2, 4))\n",
    "e = np.random.rand(2, 5)\n",
    "\n",
    "print(a)\n",
    "print(b)\n",
    "print(c)\n",
    "print(d)\n",
    "print(e)\n",
    "print()\n",
    "\n",
    "print(a * 0.1)\n",
    "print(a + 1)\n",
    "print(c * 0.2)\n",
    "print(a * b)\n",
    "print(a * b * 0.2)\n",
    "print(a * c)\n",
    "# print(a * e) ERROR\n",
    "\n",
    "f = np.zeros((1, 4))\n",
    "g = np.zeros((4, 3))\n",
    "print()\n",
    "print(f)\n",
    "print(g)\n",
    "h = f.dot(g)\n",
    "print()\n",
    "print(h)\n",
    "print()\n",
    "print(h.shape)"
   ]
  }
 ],
 "metadata": {
  "kernelspec": {
   "display_name": "Python 3",
   "language": "python",
   "name": "python3"
  },
  "language_info": {
   "codemirror_mode": {
    "name": "ipython",
    "version": 3
   },
   "file_extension": ".py",
   "mimetype": "text/x-python",
   "name": "python",
   "nbconvert_exporter": "python",
   "pygments_lexer": "ipython3",
   "version": "3.7.4"
  }
 },
 "nbformat": 4,
 "nbformat_minor": 2
}
